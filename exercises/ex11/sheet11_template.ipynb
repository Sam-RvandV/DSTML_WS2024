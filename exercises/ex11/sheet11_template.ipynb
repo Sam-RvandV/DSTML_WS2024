{
 "cells": [
  {
   "cell_type": "markdown",
   "metadata": {},
   "source": [
    "# DSML WS24/25 Exercise Sheet 11 - Template Code"
   ]
  },
  {
   "cell_type": "code",
   "execution_count": 28,
   "metadata": {},
   "outputs": [],
   "source": [
    "# import os\n",
    "# os.environ[\"OMP_NUM_THREADS\"] = \"4\" # limit numpy threads if needed.\n",
    "import numpy as np\n",
    "import matplotlib.pyplot as plt\n",
    "from scipy.ndimage import gaussian_filter1d"
   ]
  },
  {
   "cell_type": "markdown",
   "metadata": {},
   "source": [
    "Hellinger distance between power spectra:"
   ]
  },
  {
   "cell_type": "code",
   "execution_count": 29,
   "metadata": {},
   "outputs": [],
   "source": [
    "def compute_and_smooth_power_spectrum(x, smoothing):\n",
    "    x_ = (x - x.mean()) / x.std()\n",
    "    fft_real = np.fft.rfft(x_)\n",
    "    ps = np.abs(fft_real) ** 2 * 2 / len(x_)\n",
    "    ps_smoothed = gaussian_filter1d(ps, smoothing)\n",
    "    return ps_smoothed / ps_smoothed.sum()\n",
    "\n",
    "\n",
    "def hellinger_distance(p, q):\n",
    "    return np.sqrt(1 - np.sum(np.sqrt(p * q)))\n",
    "\n",
    "\n",
    "def power_spectrum_error(\n",
    "    X: np.ndarray, X_gen: np.ndarray, smoothing: float = 5.0\n",
    ") -> float:\n",
    "    \"\"\"Compute the power spectrum error between two time series.\n",
    "\n",
    "    Args:\n",
    "        X (np.ndarray): Trajectory of the original system. (T x N)\n",
    "        X_gen (np.ndarray): Trajectory of the generated system. (T x N)\n",
    "        smoothing (float): Smoothing parameter for the power spectrum.\n",
    "\n",
    "    Returns:\n",
    "        float: Mean Hellinger distance between the power spectra of the two time series.\n",
    "    \"\"\"\n",
    "    dists = []\n",
    "    for i in range(X.shape[1]):\n",
    "        ps = compute_and_smooth_power_spectrum(X[:, i], smoothing)\n",
    "        ps_gen = compute_and_smooth_power_spectrum(X_gen[:, i], smoothing)\n",
    "        dists.append(hellinger_distance(ps, ps_gen))\n",
    "    return np.mean(dists)"
   ]
  },
  {
   "cell_type": "markdown",
   "metadata": {},
   "source": [
    "## 1 Reservoir computing"
   ]
  },
  {
   "cell_type": "markdown",
   "metadata": {},
   "source": [
    "1.1 Implement the ESN class"
   ]
  },
  {
   "cell_type": "code",
   "execution_count": 30,
   "metadata": {},
   "outputs": [],
   "source": [
    "class ESN:\n",
    "    def __init__(self, N, M, alpha, beta, sigma, rho):\n",
    "        # observation space dimensionality\n",
    "        self.N = N\n",
    "        # reservoir size\n",
    "        self.M = M\n",
    "        self.alpha = alpha\n",
    "        self.beta = beta\n",
    "        self.sigma = sigma\n",
    "        self.rho = rho\n",
    "\n",
    "        # draw W_in from Gaussian distribution with mean 0 and variance sigma^2\n",
    "        self.W_in = np.random.randn(self.M, self.N) * self.sigma\n",
    "\n",
    "        # draw b from Gaussian distribution with mean 0 and variance beta^2\n",
    "        self.b = np.random.randn(self.M) * self.beta\n",
    "\n",
    "        # draw W randomly and renormalize to have spectral radius rho\n",
    "        W = np.random.randn(self.M, self.M)\n",
    "        self.W = W / np.max(np.abs(np.linalg.eigvals(W))) * self.rho\n",
    "\n",
    "        # output weights (will be overwritten by training)\n",
    "        self.W_out = None\n",
    "\n",
    "    def forward(self, x, r):\n",
    "        \"\"\"Forward pass of the ESN. Implements the state equation.\n",
    "\n",
    "        Args:\n",
    "            x (np.ndarray): Input data (1D array, N)\n",
    "            r (np.ndarray): Reservoir state (1D array, M)\n",
    "\n",
    "        Returns:\n",
    "            np.ndarray: Next reservoir state (1D array, M)\n",
    "        \"\"\"\n",
    "        pass  # your code here\n",
    "\n",
    "    def __call__(self, x, r):\n",
    "        return self.forward(x, r)\n",
    "\n",
    "    def drive(self, X):\n",
    "        \"\"\"Drive the ESN with input X.\n",
    "\n",
    "        Args:\n",
    "            X (np.ndarray): Input data (2D array, T x N)\n",
    "\n",
    "        Returns:\n",
    "            np.ndarray: Reservoir states (2D array, T x M)\n",
    "        \"\"\"\n",
    "        pass  # your code here\n",
    "\n",
    "    def train(self, X, Y, ridge_lambda, t_trans=1000):\n",
    "        \"\"\"Compute the output weights using ridge regression. Store the output weights in self.W_out.\n",
    "\n",
    "        Args:\n",
    "            X (np.ndarray): Input data (2D array, T x N)\n",
    "            Y (np.ndarray): Target data (2D array, T x N)\n",
    "            ridge_lambda (float): Ridge regression parameter\n",
    "            t_trans (int, optional): Number of transient steps to discard.\n",
    "\n",
    "        Returns:\n",
    "            float: Training error\n",
    "        \"\"\"\n",
    "        # drive the ESN with input X\n",
    "        R = self.drive(X)\n",
    "\n",
    "        # discard transient steps\n",
    "        R_ = R[t_trans:, :]\n",
    "        Y_ = Y[t_trans:, :]\n",
    "\n",
    "        # compute the output weights using ridge regression -> (N x M) output weights\n",
    "        self.W_out = ...  # your code here\n",
    "\n",
    "        # compute the training error using fittet W_out\n",
    "        L_RR = ...  # your code here\n",
    "        return L_RR\n",
    "\n",
    "    def generate(self, X, T_gen):\n",
    "        \"\"\"Generate data from the ESN.\n",
    "\n",
    "        Args:\n",
    "            X (np.ndarray): Input data (2D array, T x N)\n",
    "            T_gen (int): Number of steps to generate\n",
    "\n",
    "        Returns:\n",
    "            np.ndarray: Generated data in the observation space (2D array, T_gen x N)\n",
    "        \"\"\"\n",
    "        pass  # your code here"
   ]
  },
  {
   "cell_type": "markdown",
   "metadata": {},
   "source": [
    "1.2 Train and generate data, validate the model"
   ]
  },
  {
   "cell_type": "code",
   "execution_count": null,
   "metadata": {},
   "outputs": [],
   "source": [
    "data = np.load(\"lorenz_data.npy\")\n",
    "print(data.shape)\n",
    "\n",
    "T_train = 10000 # use first 10000 data points for training\n",
    "\n",
    "# split data into input (driving) and target data\n",
    "X = data[:T_train, :]\n",
    "Y = data[1 : T_train + 1, :]"
   ]
  },
  {
   "cell_type": "code",
   "execution_count": null,
   "metadata": {},
   "outputs": [],
   "source": [
    "# hypers\n",
    "N = 3\n",
    "M = 500\n",
    "alpha = 0.6\n",
    "beta = 0.7\n",
    "sigma = 0.3\n",
    "rho = 0.75\n",
    "ridge_lambda = 1e-2"
   ]
  },
  {
   "cell_type": "code",
   "execution_count": null,
   "metadata": {},
   "outputs": [],
   "source": [
    "# initialize ESN\n",
    "esn = ESN(N, M, alpha, beta, sigma, rho)\n",
    "\n",
    "# train ESN\n",
    "loss = ...  # your code here\n",
    "print(loss)\n",
    "\n",
    "\n",
    "\n",
    "# generate data using trained ESN\n",
    "X_drive = X[:1000, :]\n",
    "X_gen = esn.generate(X_drive, data.shape[0])"
   ]
  },
  {
   "cell_type": "code",
   "execution_count": null,
   "metadata": {},
   "outputs": [],
   "source": [
    "# plot trajectories of respective models (plot 3d, use subplots)\n",
    "# your code here"
   ]
  },
  {
   "cell_type": "markdown",
   "metadata": {},
   "source": [
    "1.3 Line search for ridge regression parameter"
   ]
  },
  {
   "cell_type": "code",
   "execution_count": 33,
   "metadata": {},
   "outputs": [],
   "source": [
    "# your code here"
   ]
  }
 ],
 "metadata": {
  "kernelspec": {
   "display_name": "teaching",
   "language": "python",
   "name": "python3"
  },
  "language_info": {
   "codemirror_mode": {
    "name": "ipython",
    "version": 3
   },
   "file_extension": ".py",
   "mimetype": "text/x-python",
   "name": "python",
   "nbconvert_exporter": "python",
   "pygments_lexer": "ipython3",
   "version": "3.12.8"
  }
 },
 "nbformat": 4,
 "nbformat_minor": 2
}
